{
  "cells": [
    {
      "cell_type": "markdown",
      "metadata": {
        "id": "gqLffP-JyX6c"
      },
      "source": [
        "# **Inicializar**\n"
      ]
    },
    {
      "cell_type": "code",
      "execution_count": null,
      "metadata": {
        "id": "DKHBE2YA1TjE"
      },
      "outputs": [],
      "source": [
        "import pandas as pd\n",
        "import matplotlib.pyplot as plt\n",
        "import numpy as np\n",
        "from sklearn.decomposition import PCA\n",
        "from sklearn.preprocessing import StandardScaler\n",
        "import seaborn as sns\n",
        "# carregando as informações do df\n",
        "#insira aqui o path dos arquivos de vinhos tintos e brancos\n",
        "vinho_red = pd.read_csv(r\"C:\\Users\\jluca\\OneDrive\\Documentos\\UFC\\6º semestre\\Inteligência Computacional Aplicada\\HW 1\\winequality-red.csv\",delimiter=';')\n",
        "vinho_white = pd.read_csv(r\"C:\\Users\\jluca\\OneDrive\\Documentos\\UFC\\6º semestre\\Inteligência Computacional Aplicada\\HW 1\\winequality-white.csv\",delimiter=';')"
      ]
    },
    {
      "cell_type": "markdown",
      "metadata": {
        "id": "EbYJQ5WzydrV"
      },
      "source": [
        "# **Plot da da análise monovariada do histograma, box-plot e tabela com média, variança e skewness&**"
      ]
    },
    {
      "cell_type": "markdown",
      "metadata": {},
      "source": [
        "## Código inicial"
      ]
    },
    {
      "cell_type": "code",
      "execution_count": null,
      "metadata": {
        "id": "pfpdfuXdXObs"
      },
      "outputs": [],
      "source": [
        "def plotar_histograma_box(data_frame,vinho,cor):\n",
        "  for i in data_frame:\n",
        "    fig, (ax1, ax2) = plt.subplots(1, 2, figsize=(12, 5))\n",
        "    # Plota o histograma\n",
        "    ax1.hist(data_frame[i], bins=20,color=cor, edgecolor='black')\n",
        "    ax1.set_title(f'Hist. de freq. de {i} para vinhos {vinho}')\n",
        "    ax1.set_xlabel(f'Valores de {i}')\n",
        "    ax1.set_ylabel('Frequência')\n",
        "    # Plota o box-plot\n",
        "    ax2.boxplot(data_frame[i], vert=True)\n",
        "    ax2.set_title(f'Box-Plot {i} para vinhos tinto')\n",
        "    plt.tight_layout()\n",
        "    plt.show()\n"
      ]
    },
    {
      "cell_type": "code",
      "execution_count": null,
      "metadata": {
        "id": "xQuEoOZUXgRH"
      },
      "outputs": [],
      "source": [
        "def calcular_tabela(data_frame):\n",
        "  colunas = ['mean', 'standard deviation', 'skewness']\n",
        "  linhas = [ 'fixed acidity', 'volatile acidity', 'citric acid', 'residual sugar',\n",
        "      'chlorides', 'free sulfur dioxide', 'total sulfur dioxide', 'density',\n",
        "      'pH', 'sulphates', 'alcohol', 'quality']\n",
        "  listas = []\n",
        "  # Calcula a média, desvio padrão e skewness para cada preditor e para quality\n",
        "  for i in data_frame:\n",
        "    listas.append(data_frame[i].mean())\n",
        "    listas.append(data_frame[i].std())\n",
        "    listas.append(data_frame[i].skew())\n",
        "\n",
        "  lista = np.array([listas])\n",
        "  matriz = lista.reshape(12, 3)\n",
        "  tabela = pd.DataFrame(data=matriz,index=linhas,columns=colunas)\n",
        "  return tabela\n"
      ]
    },
    {
      "cell_type": "markdown",
      "metadata": {},
      "source": [
        "## Vinhos tintos"
      ]
    },
    {
      "cell_type": "code",
      "execution_count": null,
      "metadata": {
        "colab": {
          "base_uri": "https://localhost:8080/",
          "height": 1000
        },
        "id": "zcfbCQ89YNiK",
        "outputId": "17e9b6ab-a0aa-4a0a-e188-012f45b978e5"
      },
      "outputs": [],
      "source": [
        "plotar_histograma_box(vinho_red,'tinto','maroon')"
      ]
    },
    {
      "cell_type": "markdown",
      "metadata": {},
      "source": [
        "## Tabela Vinhos tintos"
      ]
    },
    {
      "cell_type": "code",
      "execution_count": null,
      "metadata": {
        "colab": {
          "base_uri": "https://localhost:8080/"
        },
        "id": "_V-QBkfMZPSx",
        "outputId": "f73f919c-2340-4e81-ed83-7decdd41c4aa"
      },
      "outputs": [],
      "source": [
        "tabela = calcular_tabela(vinho_red)\n",
        "print(\"\\t\\t\\tVinhos tintos\")\n",
        "tabela"
      ]
    },
    {
      "cell_type": "markdown",
      "metadata": {},
      "source": [
        "## Vinhos brancos"
      ]
    },
    {
      "cell_type": "code",
      "execution_count": null,
      "metadata": {
        "colab": {
          "base_uri": "https://localhost:8080/",
          "height": 1000
        },
        "id": "UvuxrnSwZXp2",
        "outputId": "d531b427-1a93-4933-f251-acdf1b0b15a9"
      },
      "outputs": [],
      "source": [
        "plotar_histograma_box(vinho_white,'branco', 'aliceblue')"
      ]
    },
    {
      "cell_type": "markdown",
      "metadata": {},
      "source": [
        "## Tabela Vinhos Brancos"
      ]
    },
    {
      "cell_type": "code",
      "execution_count": null,
      "metadata": {
        "colab": {
          "base_uri": "https://localhost:8080/"
        },
        "id": "8WhWRMRsFxRh",
        "outputId": "68f0d4c0-c8e5-4144-8e89-9b6bc3326dcf"
      },
      "outputs": [],
      "source": [
        "tabela = calcular_tabela(vinho_white)\n",
        "print(\"\\t\\t\\tVinhos brancos\")\n",
        "tabela"
      ]
    },
    {
      "cell_type": "markdown",
      "metadata": {
        "id": "DsHoe0rhyxOc"
      },
      "source": [
        "# **Plot da análise monovariada condicionada a classe do histograma, box-plot e tabela com média, variança e skewness**"
      ]
    },
    {
      "cell_type": "markdown",
      "metadata": {},
      "source": [
        "## Código inicial"
      ]
    },
    {
      "cell_type": "code",
      "execution_count": null,
      "metadata": {
        "id": "pvSq-8FPbxMs"
      },
      "outputs": [],
      "source": [
        "def calcular_tabela_conditional(dataframe):\n",
        "  # Definindo a coluna da classe\n",
        "  classe_coluna = 'quality'\n",
        "  # Pegando os elementos da classe\n",
        "  classes_unicas = dataframe[classe_coluna].unique()\n",
        "  # Usado para salvar as informações estatísticas de cada class-conditional mono-variate analysis\n",
        "  dicionario = {}\n",
        "  colunas = ['mean', 'standard deviation', 'skewness']\n",
        "  linha = [ 'fixed acidity', 'volatile acidity', 'citric acid', 'residual sugar',\n",
        "      'chlorides', 'free sulfur dioxide', 'total sulfur dioxide', 'density',\n",
        "      'pH', 'sulphates', 'alcohol']\n",
        "\n",
        "  for classe in classes_unicas:\n",
        "      # Filtrar os dados para a classe atual\n",
        "      dados_classe = dataframe[dataframe[classe_coluna] == classe]\n",
        "      listas = []\n",
        "      # Realiza o calculo da média, desvio padrão e skewness\n",
        "      for coluna in dataframe.columns:\n",
        "          if coluna != classe_coluna:  # Exclui a coluna da classe\n",
        "              listas.append(dados_classe[coluna].mean())\n",
        "              listas.append(dados_classe[coluna].std())\n",
        "              listas.append(dados_classe[coluna].skew())\n",
        "\n",
        "      dicionario.update({ f'Classe {classe}' : listas})\n",
        "\n",
        "  pd.set_option('display.max_columns', None)\n",
        "  pd.set_option('display.max_rows', None)\n",
        "\n",
        "  # plotando a tabela\n",
        "  for chave in dicionario.keys():\n",
        "    lista = np.array([dicionario[chave]])\n",
        "    print(f'Tabela da classe {chave}')\n",
        "    matriz = lista.reshape(11, 3)\n",
        "    tabela = pd.DataFrame(data=matriz,index=linha,columns=colunas)\n",
        "    display(tabela)\n",
        "    print('\\n\\n')\n"
      ]
    },
    {
      "cell_type": "code",
      "execution_count": null,
      "metadata": {
        "id": "UTkLvppjaPdV"
      },
      "outputs": [],
      "source": [
        "def classe_conditional(dataframe,vinho,cor):\n",
        "  classe_coluna = 'quality'\n",
        "  classes_unicas = dataframe[classe_coluna].unique()\n",
        "\n",
        "  for classe in classes_unicas:\n",
        "      # Filtrar os dados para a classe atual\n",
        "      dados_classe = dataframe[dataframe[classe_coluna] == classe]\n",
        "      for coluna in dataframe.columns:\n",
        "          if coluna != classe_coluna:  # Exclua a coluna da classe\n",
        "              # Plote histograma e box-plot para a class-conditional mono-variate analysis\n",
        "              fig, (ax1, ax2) = plt.subplots(1, 2, figsize=(12, 5))\n",
        "\n",
        "              ax1.hist(dados_classe[coluna], bins=20,color=cor, edgecolor='black')\n",
        "              ax1.set_title(f'Hist de freq. de {coluna} para vinhos {vinho} (Classe {classe})')\n",
        "              ax1.set_xlabel(f'Valores de {coluna}')\n",
        "              ax1.set_ylabel('Frequência')\n",
        "\n",
        "              ax2.boxplot(dados_classe[coluna], vert=True)\n",
        "              ax2.set_title(f'Box-Plot {coluna} para vinhos tinto (Classe {classe})')\n",
        "              plt.tight_layout()\n",
        "              plt.show()\n"
      ]
    },
    {
      "cell_type": "markdown",
      "metadata": {},
      "source": [
        "## Vinho Tinto"
      ]
    },
    {
      "cell_type": "code",
      "execution_count": null,
      "metadata": {
        "colab": {
          "base_uri": "https://localhost:8080/",
          "height": 1000
        },
        "id": "bTwtNDgEbQm-",
        "outputId": "5b305e2f-c0c1-45f4-837c-cab118a3102f"
      },
      "outputs": [],
      "source": [
        "classe_conditional(vinho_red,'tinto','maroon')"
      ]
    },
    {
      "cell_type": "markdown",
      "metadata": {},
      "source": [
        "## Tabela Vinho Tinto"
      ]
    },
    {
      "cell_type": "code",
      "execution_count": null,
      "metadata": {
        "colab": {
          "base_uri": "https://localhost:8080/",
          "height": 1000
        },
        "id": "33zoSh4Bcl87",
        "outputId": "5488c734-f9be-4bc3-9c8d-8dc7f96df010"
      },
      "outputs": [],
      "source": [
        "calcular_tabela_conditional(vinho_red)"
      ]
    },
    {
      "cell_type": "markdown",
      "metadata": {},
      "source": [
        "## Vinho Branco"
      ]
    },
    {
      "cell_type": "code",
      "execution_count": null,
      "metadata": {
        "colab": {
          "base_uri": "https://localhost:8080/",
          "height": 1000
        },
        "id": "YUIc09FidGdD",
        "outputId": "1ed6bcd7-1362-43f6-f8b5-531e99d7ad18"
      },
      "outputs": [],
      "source": [
        "classe_conditional(vinho_white,'branco','aliceblue')"
      ]
    },
    {
      "cell_type": "markdown",
      "metadata": {},
      "source": [
        "## Tabela Vinho Branco"
      ]
    },
    {
      "cell_type": "code",
      "execution_count": null,
      "metadata": {
        "colab": {
          "base_uri": "https://localhost:8080/",
          "height": 1000
        },
        "id": "Lxw3igEndF3T",
        "outputId": "55178314-ea33-4eca-a739-9f886ed9078a"
      },
      "outputs": [],
      "source": [
        "calcular_tabela_conditional(vinho_white)"
      ]
    },
    {
      "cell_type": "markdown",
      "metadata": {
        "id": "_4_U5FC8zCcj"
      },
      "source": [
        "# **Plot da análise bivariada e da matriz de correlação**"
      ]
    },
    {
      "cell_type": "markdown",
      "metadata": {},
      "source": [
        "## Código inicial"
      ]
    },
    {
      "cell_type": "code",
      "execution_count": null,
      "metadata": {
        "id": "xnPjLZXGNeCb"
      },
      "outputs": [],
      "source": [
        "def bivariante(dataframe,vinho):\n",
        "  # filtro de coluna para separar os preditoras da classe\n",
        "  classe_coluna = 'quality'\n",
        "  for i in dataframe:\n",
        "    cont = 1\n",
        "    corr = []\n",
        "    if i!=classe_coluna:\n",
        "      fig = plt.figure(figsize=(15,15))\n",
        "      for j in dataframe:\n",
        "        if j!=classe_coluna:\n",
        "          fig.add_subplot(4,3,cont)\n",
        "          # Calcula a reta de regressão\n",
        "          m, b = np.polyfit(dataframe[i], dataframe[j], 1)\n",
        "          # Plota os pontos\n",
        "          plt.scatter(dataframe[i], dataframe[j], c=dataframe[classe_coluna], cmap='viridis')\n",
        "          plt.plot(dataframe[i], m*dataframe[i] + b)\n",
        "          plt.xlabel(f'{i} do vinho {vinho}')\n",
        "          plt.ylabel(f'{j}')\n",
        "          cont += 1\n",
        "\n",
        "    plt.suptitle(f'Scatter Plots entre Preditores do vinho {vinho}')\n",
        "    plt.tight_layout()\n",
        "    plt.show()"
      ]
    },
    {
      "cell_type": "code",
      "execution_count": null,
      "metadata": {
        "id": "zeyCaAmuSqbA"
      },
      "outputs": [],
      "source": [
        "def matrix_correlacao(dataframe,vinho):\n",
        "  classe_coluna = 'quality'\n",
        "  correlation_matrix = []\n",
        "  linha = ['fixed acidity', 'volatile acidity', 'citric acid', 'residual sugar',\n",
        "      'chlorides', 'free sulfur dioxide', 'total sulfur dioxide', 'density',\n",
        "      'pH', 'sulphates', 'alcohol']\n",
        "\n",
        "  for i in dataframe:\n",
        "    cont = 1\n",
        "    corr = []\n",
        "    if i!=classe_coluna:\n",
        "      for j in dataframe:\n",
        "        if j!=classe_coluna:\n",
        "          # Calcula a correlação entre dois preditores\n",
        "          corr.append(dataframe[[i, j]].corr().iloc[0, 1])\n",
        "      correlation_matrix.append(corr)\n",
        "  x_axis_labels = linha\n",
        "  y_axis_labels = linha\n",
        "\n",
        "  plt.figure(figsize=(10,10))\n",
        "  # Plota a matriz de correlação\n",
        "  ax = sns.heatmap(correlation_matrix, xticklabels=x_axis_labels, yticklabels=y_axis_labels , annot=True, cmap=\"coolwarm\", fmt=\".2f\")\n",
        "  plt.title(f'Matrix de Correlação do vinho {vinho}')"
      ]
    },
    {
      "cell_type": "markdown",
      "metadata": {},
      "source": [
        "## Vinhos tintos"
      ]
    },
    {
      "cell_type": "code",
      "execution_count": null,
      "metadata": {
        "colab": {
          "base_uri": "https://localhost:8080/",
          "height": 1000
        },
        "id": "5jGZgHv0T41-",
        "outputId": "e0cf4fd5-f7ef-480a-8839-4a1e80f35a7b"
      },
      "outputs": [],
      "source": [
        "bivariante(vinho_red,'tinto')"
      ]
    },
    {
      "cell_type": "markdown",
      "metadata": {},
      "source": [
        "## Matriz de Correlação de Vinhos tintos"
      ]
    },
    {
      "cell_type": "code",
      "execution_count": null,
      "metadata": {
        "colab": {
          "base_uri": "https://localhost:8080/",
          "height": 969
        },
        "id": "HWHXTIdpXiwa",
        "outputId": "ed29f8b2-6824-43c8-e6f2-373dcc510fa4"
      },
      "outputs": [],
      "source": [
        "matrix_correlacao(vinho_red,'tinto')"
      ]
    },
    {
      "cell_type": "markdown",
      "metadata": {},
      "source": [
        "## Vinhos brancos"
      ]
    },
    {
      "cell_type": "code",
      "execution_count": null,
      "metadata": {
        "colab": {
          "base_uri": "https://localhost:8080/",
          "height": 1000
        },
        "id": "G4PEeig4T4qG",
        "outputId": "4ceddd45-9690-4823-ca2b-6fcf63ed269f"
      },
      "outputs": [],
      "source": [
        "bivariante(vinho_white,'branco')"
      ]
    },
    {
      "cell_type": "markdown",
      "metadata": {},
      "source": [
        "## Matriz de Correlação de Vinhos brancos"
      ]
    },
    {
      "cell_type": "code",
      "execution_count": null,
      "metadata": {
        "colab": {
          "base_uri": "https://localhost:8080/",
          "height": 969
        },
        "id": "XcCh5vqoXnqs",
        "outputId": "d3e99692-3b87-4edc-f7d3-ad0126f5c445"
      },
      "outputs": [],
      "source": [
        "matrix_correlacao(vinho_white,'branco')"
      ]
    },
    {
      "cell_type": "markdown",
      "metadata": {
        "id": "44-LXhZxzNg2"
      },
      "source": [
        "# **PCA e screen plot**"
      ]
    },
    {
      "cell_type": "markdown",
      "metadata": {},
      "source": [
        "## Código"
      ]
    },
    {
      "cell_type": "code",
      "execution_count": null,
      "metadata": {
        "id": "MzFoS5chatd0"
      },
      "outputs": [],
      "source": [
        "# Cria uma cópia do data_set somente com os preditores\n",
        "def screen(dataframe,vinho):\n",
        "  df = dataframe.copy(deep=True)\n",
        "  x = df.drop('quality',axis=1)\n",
        "  y = dataframe['quality']\n",
        "\n",
        "  # Normalização dos dados e aplicação do PCA\n",
        "  scaler = StandardScaler()\n",
        "  X = scaler.fit_transform(x)\n",
        "  pca = PCA(n_components = 2)\n",
        "  principal_components = pca.fit_transform(X)\n",
        "\n",
        "  # Plot do screen plot\n",
        "  new_X = pd.DataFrame(data = principal_components, columns = ['PC1', 'PC2'])\n",
        "  per_var = np.round(pca.explained_variance_ratio_ * 100, decimals=1)\n",
        "  label = ['PC' + str(x) for x in range(1, len(per_var)+1)]\n",
        "  plt.bar(x=range(1, len(per_var)+1), height = per_var, tick_label = label)\n",
        "\n",
        "  plt.ylabel('porcentangem de variação')\n",
        "  plt.xlabel('Principal components')\n",
        "  plt.title(f'screen plot para vinhos {vinho}')\n",
        "  plt.show()"
      ]
    },
    {
      "cell_type": "code",
      "execution_count": null,
      "metadata": {
        "id": "-738k5YNJwWx"
      },
      "outputs": [],
      "source": [
        "def aplicar_PCA(dataframe,vinho):\n",
        "  df = dataframe.copy(deep=True)\n",
        "  df = df.drop('quality',axis=1)\n",
        "\n",
        "  scaling=StandardScaler(with_mean=True,with_std=True)\n",
        "  scaling.fit(df)\n",
        "  Scaled_data=scaling.transform(df)\n",
        "\n",
        "  principal=PCA(n_components=11)\n",
        "  principal.fit(Scaled_data)\n",
        "\n",
        "  x=principal.transform(Scaled_data)\n",
        "  # plot do PCA\n",
        "  plt.figure(figsize=(10,10))\n",
        "  plt.scatter(x[:,0],x[:,1],c=dataframe['quality'], cmap='viridis')\n",
        "  plt.xlabel('pc1')\n",
        "  plt.ylabel('pc2')\n",
        "  plt.title(f'PCA plot para vinhos {vinho}')\n",
        "  eigenvalues = principal.explained_variance_ratio_\n"
      ]
    },
    {
      "cell_type": "markdown",
      "metadata": {},
      "source": [
        "## Vinhos Tintos"
      ]
    },
    {
      "cell_type": "code",
      "execution_count": null,
      "metadata": {
        "colab": {
          "base_uri": "https://localhost:8080/",
          "height": 472
        },
        "id": "NyKMo7Zwcl8k",
        "outputId": "62629413-38e2-40b7-8fd9-2adc0627adc6"
      },
      "outputs": [],
      "source": [
        "screen(vinho_red,'tintos')"
      ]
    },
    {
      "cell_type": "code",
      "execution_count": null,
      "metadata": {
        "colab": {
          "base_uri": "https://localhost:8080/",
          "height": 872
        },
        "id": "yZO8daz5x6pp",
        "outputId": "90295889-dfcf-4a31-c20b-77fb4b46f0df"
      },
      "outputs": [],
      "source": [
        "aplicar_PCA(vinho_red,'tintos')"
      ]
    },
    {
      "cell_type": "markdown",
      "metadata": {},
      "source": [
        "## Vinhos Brancos"
      ]
    },
    {
      "cell_type": "code",
      "execution_count": null,
      "metadata": {
        "colab": {
          "base_uri": "https://localhost:8080/",
          "height": 472
        },
        "id": "Lcii3bUmx6uq",
        "outputId": "0822d96c-193f-4a75-8d88-f17a78094158"
      },
      "outputs": [],
      "source": [
        "screen(vinho_white,'brancos')"
      ]
    },
    {
      "cell_type": "code",
      "execution_count": null,
      "metadata": {
        "colab": {
          "base_uri": "https://localhost:8080/",
          "height": 872
        },
        "id": "XEHAnDYXx6Zw",
        "outputId": "8825522c-b964-4a23-f1d3-2a7c4f560b87"
      },
      "outputs": [],
      "source": [
        "aplicar_PCA(vinho_white,'brancos')"
      ]
    }
  ],
  "metadata": {
    "colab": {
      "provenance": [],
      "toc_visible": true
    },
    "kernelspec": {
      "display_name": "Python 3",
      "name": "python3"
    },
    "language_info": {
      "codemirror_mode": {
        "name": "ipython",
        "version": 3
      },
      "file_extension": ".py",
      "mimetype": "text/x-python",
      "name": "python",
      "nbconvert_exporter": "python",
      "pygments_lexer": "ipython3",
      "version": "3.11.5"
    }
  },
  "nbformat": 4,
  "nbformat_minor": 0
}
